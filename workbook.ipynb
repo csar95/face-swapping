{
 "cells": [
  {
   "cell_type": "code",
   "execution_count": 1,
   "id": "dcc8d88e-8576-4609-9b7f-c3f4aa439d80",
   "metadata": {},
   "outputs": [],
   "source": [
    "import cv2\n",
    "import matplotlib.pyplot as plt\n",
    "import insightface\n",
    "from insightface.app import FaceAnalysis"
   ]
  },
  {
   "cell_type": "code",
   "execution_count": 6,
   "id": "a66b3c32-7906-4baf-826f-d9c18cca1af1",
   "metadata": {},
   "outputs": [
    {
     "name": "stdout",
     "output_type": "stream",
     "text": [
      "Applied providers: ['CPUExecutionProvider'], with options: {'CPUExecutionProvider': {}}\n",
      "find model: /Users/csr95/.insightface/models/buffalo_l/1k3d68.onnx landmark_3d_68 ['None', 3, 192, 192] 0.0 1.0\n",
      "Applied providers: ['CPUExecutionProvider'], with options: {'CPUExecutionProvider': {}}\n",
      "find model: /Users/csr95/.insightface/models/buffalo_l/2d106det.onnx landmark_2d_106 ['None', 3, 192, 192] 0.0 1.0\n",
      "Applied providers: ['CPUExecutionProvider'], with options: {'CPUExecutionProvider': {}}\n",
      "find model: /Users/csr95/.insightface/models/buffalo_l/det_10g.onnx detection [1, 3, '?', '?'] 127.5 128.0\n",
      "Applied providers: ['CPUExecutionProvider'], with options: {'CPUExecutionProvider': {}}\n",
      "find model: /Users/csr95/.insightface/models/buffalo_l/genderage.onnx genderage ['None', 3, 96, 96] 0.0 1.0\n",
      "Applied providers: ['CPUExecutionProvider'], with options: {'CPUExecutionProvider': {}}\n",
      "find model: /Users/csr95/.insightface/models/buffalo_l/w600k_r50.onnx recognition ['None', 3, 112, 112] 127.5 127.5\n",
      "set det-size: (640, 640)\n"
     ]
    }
   ],
   "source": [
    "app = FaceAnalysis(name='buffalo_l', providers=['CPUExecutionProvider'])\n",
    "app.prepare(ctx_id=0, det_size=(640, 640))"
   ]
  },
  {
   "attachments": {},
   "cell_type": "markdown",
   "id": "c47fa1a9",
   "metadata": {},
   "source": [
    "It's not possible to download it from the repository, so I had to find it in the Internet and place it in the folder below.\n",
    "\n",
    "Since they haven't made the 256 and 512 models public, the resolution will be lower than when you use the Discord bot."
   ]
  },
  {
   "cell_type": "code",
   "execution_count": 7,
   "id": "a77eece8-f746-45af-8273-d85c8c55327b",
   "metadata": {},
   "outputs": [
    {
     "name": "stdout",
     "output_type": "stream",
     "text": [
      "Applied providers: ['CPUExecutionProvider'], with options: {'CPUExecutionProvider': {}}\n",
      "inswapper-shape: [1, 3, 128, 128]\n"
     ]
    }
   ],
   "source": [
    "swapper = insightface.model_zoo.get_model(name='/Users/csr95/.insightface/models/inswapper_128.onnx', download=False, download_zip=False)"
   ]
  },
  {
   "cell_type": "code",
   "execution_count": null,
   "id": "4e420bff",
   "metadata": {},
   "outputs": [],
   "source": [
    "cegutica_img = cv2.imread(\"./assets/cegutica.jpg\")\n",
    "plt.imshow(cegutica_img[:, :, ::-1])\n",
    "plt.show()"
   ]
  },
  {
   "cell_type": "code",
   "execution_count": 9,
   "id": "835fe322",
   "metadata": {},
   "outputs": [
    {
     "name": "stderr",
     "output_type": "stream",
     "text": [
      "/Users/csr95/opt/anaconda3/envs/face-swapping/lib/python3.10/site-packages/insightface/utils/transform.py:68: FutureWarning: `rcond` parameter will change to the default of machine precision times ``max(M, N)`` where M and N are the input matrix dimensions.\n",
      "To use the future default and silence this warning we advise to pass `rcond=None`, to keep using the old, explicitly pass `rcond=-1`.\n",
      "  P = np.linalg.lstsq(X_homo, Y)[0].T # Affine matrix. 3 x 4\n"
     ]
    }
   ],
   "source": [
    "cegutica_face = app.get(cegutica_img)"
   ]
  },
  {
   "cell_type": "code",
   "execution_count": 10,
   "id": "b64b4340",
   "metadata": {},
   "outputs": [
    {
     "data": {
      "text/plain": [
       "1"
      ]
     },
     "execution_count": 10,
     "metadata": {},
     "output_type": "execute_result"
    }
   ],
   "source": [
    "len(cegutica_face)"
   ]
  },
  {
   "cell_type": "code",
   "execution_count": 11,
   "id": "a870379c",
   "metadata": {},
   "outputs": [
    {
     "data": {
      "text/plain": [
       "dict_keys(['bbox', 'kps', 'det_score', 'landmark_3d_68', 'pose', 'landmark_2d_106', 'gender', 'age', 'embedding'])"
      ]
     },
     "execution_count": 11,
     "metadata": {},
     "output_type": "execute_result"
    }
   ],
   "source": [
    "cegutica_face[0].keys()"
   ]
  },
  {
   "cell_type": "code",
   "execution_count": null,
   "id": "0296f19e",
   "metadata": {},
   "outputs": [],
   "source": [
    "ref_img = cv2.imread(\"./assets/plumber.png\")\n",
    "plt.imshow(ref_img[:, :, ::-1])\n",
    "plt.show()"
   ]
  },
  {
   "cell_type": "code",
   "execution_count": null,
   "id": "b46ad96f-0089-420e-b6eb-aa4e5e3ab259",
   "metadata": {},
   "outputs": [],
   "source": [
    "result = ref_img.copy()\n",
    "faces_in_ref_img = app.get(ref_img)\n",
    "\n",
    "for face in faces_in_ref_img:\n",
    "    result = swapper.get(img=result, target_face=face, source_face=cegutica_face[0], paste_back=True)\n",
    "\n",
    "plt.imsave(\"./assets/result.png\", result[:, :, ::-1])\n",
    "plt.imshow(result[:, :, ::-1])\n",
    "plt.show()"
   ]
  },
  {
   "cell_type": "code",
   "execution_count": null,
   "id": "2d8a518c",
   "metadata": {},
   "outputs": [],
   "source": []
  }
 ],
 "metadata": {
  "kernelspec": {
   "display_name": "Python 3 (ipykernel)",
   "language": "python",
   "name": "python3"
  },
  "language_info": {
   "codemirror_mode": {
    "name": "ipython",
    "version": 3
   },
   "file_extension": ".py",
   "mimetype": "text/x-python",
   "name": "python",
   "nbconvert_exporter": "python",
   "pygments_lexer": "ipython3",
   "version": "3.10.13"
  }
 },
 "nbformat": 4,
 "nbformat_minor": 5
}
